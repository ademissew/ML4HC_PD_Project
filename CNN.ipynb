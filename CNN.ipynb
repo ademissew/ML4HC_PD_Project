{
 "cells": [
  {
   "cell_type": "code",
   "execution_count": null,
   "metadata": {
    "colab": {},
    "colab_type": "code",
    "id": "XMJwnh4D9rqj"
   },
   "outputs": [],
   "source": [
    "import keras\n",
    "import numpy as np\n",
    "import pandas as pd\n",
    "import matplotlib.pyplot as plt\n",
    "from numpy import interp\n",
    "from itertools import cycle\n",
    "from sklearn.metrics import roc_curve, auc\n",
    "from sklearn.preprocessing import label_binarize\n",
    "from sklearn.model_selection import KFold\n",
    "from keras.models import Sequential\n",
    "from keras.layers import Dense, Dropout\n",
    "from keras.layers import Embedding\n",
    "from sklearn.model_selection import cross_val_score\n",
    "from keras.layers import Conv1D, GlobalAveragePooling1D, MaxPooling1D,Flatten"
   ]
  },
  {
   "cell_type": "markdown",
   "metadata": {},
   "source": [
    "Used this https://scikit-learn.org/stable/auto_examples/model_selection/plot_roc.html"
   ]
  },
  {
   "cell_type": "code",
   "execution_count": null,
   "metadata": {
    "colab": {},
    "colab_type": "code",
    "id": "hSfYumVsE1LU"
   },
   "outputs": [],
   "source": [
    "path = 'parkinsons_disease_mobile_tracker/processed_data/'\n",
    "X_train,y_train = pd.read_csv(path+'X_train_final.csv'), list(pd.read_csv(path+'y_train.csv')['on_off'])\n",
    "X_test,y_test = pd.read_csv(path+'X_test_final.csv'),list(pd.read_csv(path+'y_test.csv')['on_off'])"
   ]
  },
  {
   "cell_type": "code",
   "execution_count": null,
   "metadata": {},
   "outputs": [],
   "source": [
    "X_train_list, X_test_list = [],[]\n",
    "path = 'cis_training_data/'\n",
    "for index,row in X_train.iterrows():\n",
    "    measurement_id = row['measurement_id']\n",
    "    features = np.array([row[:-2]]) # ignores subject_id and measurement_ids\n",
    "    time_steps = pd.read_csv(path + measurement_id +'.csv').drop(['Timestamp'], axis=1).to_numpy()\n",
    "    features = np.repeat(features,len(time_steps),axis=0) \n",
    "    X_train_list.append(np.append(time_steps,features,axis=1))\n",
    "for index,row in X_test.iterrows():\n",
    "    measurement_id = row['measurement_id']\n",
    "    features = np.array([row[:-2]])\n",
    "    time_steps = pd.read_csv(path + measurement_id +'.csv').drop(['Timestamp'], axis=1).to_numpy()\n",
    "    features = np.repeat(features,len(time_steps),axis=0) \n",
    "    X_test_list.append(np.append(time_steps,features,axis=1))"
   ]
  },
  {
   "cell_type": "code",
   "execution_count": null,
   "metadata": {
    "colab": {},
    "colab_type": "code",
    "id": "TUfOWIqjDuZY"
   },
   "outputs": [],
   "source": [
    "max_train_shape = max(example.shape[0] for example in X_train_list)\n",
    "max_test_shape = max(example.shape[0] for example in X_test_list)\n",
    "max_shape = max(max_train_shape,max_test_shape)\n",
    "\n",
    "for i in range(len(X_train_list)):\n",
    "    example = X_train_list[i]\n",
    "    if example.shape[0] < max_shape:\n",
    "        padding = np.array([np.zeros(24) for _ in range(max_shape - example.shape[0])])\n",
    "        example = np.concatenate((example, padding))\n",
    "    X_train_list[i] = example\n",
    "for i in range(len(X_test_list)):\n",
    "    example = X_test_list[i]\n",
    "    if example.shape[0] < max_shape:\n",
    "        padding = np.array([np.zeros(24) for _ in range(max_shape - example.shape[0])])\n",
    "        example = np.concatenate((example, padding))\n",
    "    X_test_list[i] = example\n",
    "    \n",
    "X_train_list = np.array(X_train_list)\n",
    "X_test_list = np.array(X_test_list)"
   ]
  },
  {
   "cell_type": "code",
   "execution_count": null,
   "metadata": {},
   "outputs": [],
   "source": [
    "mapping_dict = {0:0,1:1,2:1,3:1,4:1}\n",
    "y_train_list = [mapping_dict[i] for i in y_train]#label_binarize([mapping_dict[i] for i in y_train], classes=[0, 1])\n",
    "y_test_list = [mapping_dict[i] for i in y_test]#label_binarize([mapping_dict[i] for i in y_test], classes=[0, 1])"
   ]
  },
  {
   "cell_type": "markdown",
   "metadata": {},
   "source": [
    "taken from https://stackoverflow.com/questions/41032551/how-to-compute-receiving-operating-characteristic-roc-and-auc-in-keras"
   ]
  },
  {
   "cell_type": "code",
   "execution_count": null,
   "metadata": {},
   "outputs": [],
   "source": [
    "from sklearn.metrics import roc_auc_score\n",
    "import sklearn.metrics as metrics\n",
    "import matplotlib.pyplot as plt\n",
    "from keras.callbacks import Callback\n",
    "\n",
    "class RocCallback(Callback):\n",
    "    def __init__(self,training_data,validation_data):\n",
    "        self.x = training_data[0]\n",
    "        self.y = training_data[1]\n",
    "        self.x_val = validation_data[0]\n",
    "        self.y_val = validation_data[1]\n",
    "\n",
    "\n",
    "    def on_train_begin(self, logs={}):\n",
    "        return\n",
    "\n",
    "    def on_train_end(self, logs={}):\n",
    "        return\n",
    "\n",
    "    def on_epoch_begin(self, epoch, logs={}):\n",
    "        return\n",
    "\n",
    "    def on_epoch_end(self, epoch, logs={}):\n",
    "        print('----------- predicting -----------')\n",
    "        y_pred_train = self.model.predict_proba(self.x)\n",
    "        roc_train = roc_auc_score(self.y, y_pred_train)\n",
    "        y_pred_val = self.model.predict_proba(self.x_val)\n",
    "        roc_val = roc_auc_score(self.y_val, y_pred_val)\n",
    "        print('Custom Accuracy Train:', sum(int(abs(y_pred_train[i][0]>0.5 - self.y[i])) for i in range(len(y_pred_train)))/len(y_pred_train))\n",
    "        print('Custom Accuracy Val:', sum(int(abs(y_pred_val[i][0]>0.5 - self.y_val[i])) for i in range(len(y_pred_val)))/len(y_pred_val))\n",
    "        print('\\rroc-auc_train: %s - roc-auc_val: %s' % (str(round(roc_train,4)),str(round(roc_val,4))),end=100*' '+'\\n')\n",
    "        # calculate the fpr and tpr for all thresholds of the classification\n",
    "        print('----------- plotting -----------')\n",
    "        \n",
    "        train_preds = 1- y_pred_train\n",
    "        train_fpr, train_tpr, threshold = metrics.roc_curve(self.y, train_preds,pos_label=1)\n",
    "        \n",
    "        val_preds = 1 - y_pred_val\n",
    "        val_fpr, val_tpr, threshold = metrics.roc_curve(self.y_val, val_preds,pos_label=1)\n",
    "        # method I: plt\n",
    "        plt.title('Receiver Operating Characteristic')\n",
    "        plt.plot(train_fpr, train_tpr, 'tan', label = 'train AUC = %0.2f' % roc_train)\n",
    "        plt.plot(val_fpr, val_tpr, color='navy', label = 'val AUC = %0.2f' % roc_val)\n",
    "        plt.legend(loc = 'lower right')\n",
    "        plt.plot([0, 1], [0, 1],'r--')\n",
    "        plt.xlim([0, 1])\n",
    "        plt.ylim([0, 1])\n",
    "        plt.ylabel('True Positive Rate')\n",
    "        plt.xlabel('False Positive Rate')\n",
    "        plt.show()\n",
    "        return\n",
    "\n",
    "    def on_batch_begin(self, batch, logs={}):\n",
    "        return\n",
    "\n",
    "    def on_batch_end(self, batch, logs={}):\n",
    "        return\n",
    "\n",
    "roc = RocCallback(training_data=(X_train_list, y_train_list),\n",
    "                  validation_data=(X_test_list, y_test_list))"
   ]
  },
  {
   "cell_type": "code",
   "execution_count": null,
   "metadata": {
    "colab": {},
    "colab_type": "code",
    "id": "UV-w-wRdFHEB",
    "scrolled": true
   },
   "outputs": [],
   "source": [
    "def create_model1():\n",
    "    model = Sequential()\n",
    "    model.add(Conv1D(100, kernel_size=100, activation='relu', input_shape=(max_shape,24)))\n",
    "    model.add(MaxPooling1D(10))\n",
    "    model.add(Conv1D(50, kernel_size=20, activation='relu'))\n",
    "    model.add(MaxPooling1D(5))\n",
    "    model.add(Flatten())\n",
    "    model.add(Dropout(0.5))\n",
    "    model.add(Dense(1, activation='sigmoid'))\n",
    "\n",
    "    model.compile(loss='binary_crossentropy',\n",
    "                  optimizer='adam',\n",
    "                  metrics=['binary_accuracy'])\n",
    "    return model\n",
    "\n",
    "model1 = create_model1()\n",
    "model1.fit(X_train_list, y_train_list, epochs=10,batch_size=30,verbose=1,\\\n",
    "         validation_data=(X_test_list,y_test_list),callbacks=[roc])"
   ]
  },
  {
   "cell_type": "code",
   "execution_count": null,
   "metadata": {
    "scrolled": true
   },
   "outputs": [],
   "source": [
    "def create_model2():\n",
    "    model = Sequential()\n",
    "    model.add(Conv1D(100, kernel_size=50, activation='relu', input_shape=(max_shape,24)))\n",
    "    model.add(Conv1D(100, 50, activation='relu', input_shape=(max_shape, 24)))\n",
    "    model.add(MaxPooling1D(3))\n",
    "    model.add(Conv1D(50, 10, activation='relu'))\n",
    "    model.add(Conv1D(50, 10, activation='relu'))\n",
    "    model.add(Flatten())\n",
    "    model.add(Dropout(0.5))\n",
    "    model.add(Dense(1, activation='sigmoid'))\n",
    "\n",
    "    model.compile(loss='binary_crossentropy',\n",
    "                  optimizer='adam',\n",
    "                  metrics=['accuracy',])\n",
    "    return model\n",
    "model2 = create_model2()\n",
    "model2.fit(X_train_list, y_train_list, epochs=10,batch_size=30,verbose=1,\\\n",
    "         validation_data=(X_test_list,y_test_list),callbacks=[roc])\n",
    "probs2 = model2.predict_proba(X_test_list)"
   ]
  },
  {
   "cell_type": "code",
   "execution_count": null,
   "metadata": {},
   "outputs": [],
   "source": [
    "def create_model3():\n",
    "    model = Sequential()\n",
    "    model.add(Conv1D(100, kernel_size=50, activation='relu', input_shape=(max_shape,24)))\n",
    "    model.add(Flatten())\n",
    "    model.add(Dropout(0.5))\n",
    "    model.add(Dense(1, activation='softmax'))\n",
    "\n",
    "    model.compile(loss='binary_crossentropy',\n",
    "                  optimizer='adam',\n",
    "                  metrics=['binary_accuracy',keras.metrics.AUC()])\n",
    "    return model\n",
    "model3 = create_model3()\n",
    "model3.fit(X_train_list, y_train_list, epochs=10,batch_size=30,verbose=1,\\\n",
    "         validation_data=(X_test_list,y_test_list),callbacks=[roc])\n",
    "probs3 = model3.predict_proba(X_test_list)"
   ]
  },
  {
   "cell_type": "code",
   "execution_count": null,
   "metadata": {
    "scrolled": true
   },
   "outputs": [],
   "source": [
    "def create_model4():\n",
    "    model = Sequential()\n",
    "    model.add(Conv1D(100, kernel_size=50, activation='relu', input_shape=(max_shape,24)))\n",
    "    model.add(MaxPooling1D(3))\n",
    "    model.add(Conv1D(50, 10, activation='relu'))\n",
    "    model.add(Flatten())\n",
    "    model.add(Dense(1, activation='sigmoid'))\n",
    "\n",
    "    model.compile(loss='binary_crossentropy',\n",
    "                  optimizer='adam',\n",
    "                  metrics=['binary_accuracy',keras.metrics.AUC()])\n",
    "    return model\n",
    "model4 = create_model4()\n",
    "model4.fit(X_train_list, y_train_list, epochs=10,batch_size=30,verbose=1,\\\n",
    "         validation_data=(X_test_list,y_test_list),callbacks=[roc])\n",
    "probs4 = model4.predict_proba(X_test_list)"
   ]
  },
  {
   "cell_type": "code",
   "execution_count": null,
   "metadata": {},
   "outputs": [],
   "source": [
    "def create_model5():\n",
    "    model = Sequential()\n",
    "    model.add(Conv1D(100, kernel_size=50, activation='relu', input_shape=(max_shape,24)))\n",
    "    model.add(Conv1D(50, 10, activation='relu'))\n",
    "    model.add(MaxPooling1D(3))\n",
    "    model.add(Flatten())\n",
    "    model.add(Dense(1, activation='sigmoid'))\n",
    "\n",
    "    model.compile(loss='binary_crossentropy',\n",
    "                  optimizer='adam',\n",
    "                  metrics=['binary_accuracy',keras.metrics.AUC()])\n",
    "    return model\n",
    "model5 = create_model5()\n",
    "model5.fit(X_train_list, y_train_list, epochs=10,batch_size=30,verbose=1,\\\n",
    "         validation_data=(X_test_list,y_test_list),callbacks=[roc])\n",
    "probs5 = model5.predict_proba(X_test_list)"
   ]
  }
 ],
 "metadata": {
  "@webio": {
   "lastCommId": null,
   "lastKernelId": null
  },
  "colab": {
   "collapsed_sections": [],
   "name": "CNN.ipynb",
   "private_outputs": true,
   "provenance": []
  },
  "kernelspec": {
   "display_name": "Python 3",
   "language": "python",
   "name": "python3"
  },
  "language_info": {
   "codemirror_mode": {
    "name": "ipython",
    "version": 3
   },
   "file_extension": ".py",
   "mimetype": "text/x-python",
   "name": "python",
   "nbconvert_exporter": "python",
   "pygments_lexer": "ipython3",
   "version": "3.7.4"
  }
 },
 "nbformat": 4,
 "nbformat_minor": 1
}
