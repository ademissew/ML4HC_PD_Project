{
 "cells": [
  {
   "cell_type": "code",
   "execution_count": null,
   "metadata": {
    "colab": {},
    "colab_type": "code",
    "id": "CO0-bDpkwVT_"
   },
   "outputs": [],
   "source": [
    "import numpy as np\n",
    "import pandas as pd\n",
    "import matplotlib.pyplot as plt\n",
    "import seaborn as sns\n",
    "import glob\n",
    "import os\n",
    "from keras.utils import to_categorical\n",
    "from sklearn.model_selection import train_test_split\n",
    "from keras.models import Sequential\n",
    "from keras.layers import Dense\n",
    "from keras.layers import Flatten\n",
    "from keras.layers import Dropout\n",
    "from keras.layers import LSTM"
   ]
  },
  {
   "cell_type": "code",
   "execution_count": null,
   "metadata": {
    "colab": {},
    "colab_type": "code",
    "id": "3i6yDtP3w05U"
   },
   "outputs": [],
   "source": [
    "path = r'/content/training_data'                     # use your path\n",
    "all_files = glob.glob(path + \"/*.csv\")\n",
    "labels = pd.read_csv('/content/CIS-PD_Training_Data_IDs_Labels.csv', index_col=None, header=0)"
   ]
  },
  {
   "cell_type": "code",
   "execution_count": null,
   "metadata": {
    "colab": {
     "base_uri": "https://localhost:8080/",
     "height": 34
    },
    "colab_type": "code",
    "id": "RPMxUThs4rwv",
    "outputId": "d569cb5b-1d4c-4440-f039-6148c7ef4091"
   },
   "outputs": [],
   "source": [
    "X = []\n",
    "for filename in all_files:\n",
    "  values = []\n",
    "  data = pd.read_csv(filename, index_col=None, header=0, nrows = 5803)\n",
    "  values.append(data['X'].values)\n",
    "  values.append(data['Y'].values)\n",
    "  values.append(data['Z'].values)\n",
    "  values = np.array(values)\n",
    "  X.append(values)\n",
    "\n",
    "X = np.stack(X)\n",
    "\n",
    "y = []\n",
    "for filename in all_files:\n",
    "  head, tail = os.path.split(filename)\n",
    "  for index, row in labels.iterrows():\n",
    "    measurement_id = row['measurement_id'] + \".csv\"\n",
    "    if (measurement_id == tail):\n",
    "      y.append(row['on_off'])\n",
    "      break\n",
    "y = np.array(y)\n",
    "y = to_categorical(y)\n",
    "X_train, X_test, y_train, y_test = train_test_split(X, y, test_size=0.33, random_state=42)\n",
    "print (X_train.shape, X_test.shape, y_train.shape, y_test.shape)"
   ]
  },
  {
   "cell_type": "code",
   "execution_count": null,
   "metadata": {
    "colab": {},
    "colab_type": "code",
    "id": "BKruewuw-SBf"
   },
   "outputs": [],
   "source": [
    "# fit and evaluate a model\n",
    "def evaluate_model(trainX, trainy, testX, testy):\n",
    "  verbose, epochs, batch_size = 0, 15, 1\n",
    "  n_timesteps, n_features, n_outputs = trainX.shape[1], trainX.shape[2], trainy.shape[1]\n",
    "  model = Sequential()\n",
    "  model.add(LSTM(100, input_shape=(n_timesteps,n_features)))\n",
    "  model.add(Dropout(0.5))\n",
    "  model.add(Dense(100, activation='relu'))\n",
    "  model.add(Dense(n_outputs, activation='softmax'))\n",
    "  model.compile(loss='categorical_crossentropy', optimizer='adam', metrics=['accuracy'])\n",
    "  # fit network\n",
    "  model.fit(trainX, trainy, epochs=epochs, batch_size=batch_size, verbose=verbose)\n",
    "  # evaluate model\n",
    "  #_, accuracy = model.evaluate(testX, testy, batch_size=batch_size, verbose=0)\n",
    "  #return accuracy"
   ]
  },
  {
   "cell_type": "code",
   "execution_count": null,
   "metadata": {
    "colab": {
     "base_uri": "https://localhost:8080/",
     "height": 307
    },
    "colab_type": "code",
    "id": "xw3zvDUHMG5c",
    "outputId": "089b5548-6914-4d3d-9d76-8ee371cfb7be"
   },
   "outputs": [],
   "source": [
    "print (evaluate_model(X_train, X_test, y_train, y_test))"
   ]
  },
  {
   "cell_type": "code",
   "execution_count": null,
   "metadata": {
    "colab": {},
    "colab_type": "code",
    "id": "vi8iKkyfI5vo"
   },
   "outputs": [],
   "source": [
    "scores = list()\n",
    "for r in range(10):\n",
    "  score = evaluate_model(X_train, X_test, y_train, y_test)\n",
    "  score = score * 100.0\n",
    "  print('>#%d: %.3f' % (r+1, score))\n",
    "  scores.append(score)\n",
    "print(scores)\n",
    "m, s = np.mean(scores), np.std(scores)\n",
    "print('Accuracy: %.3f%% (+/-%.3f)' % (m, s))"
   ]
  }
 ],
 "metadata": {
  "@webio": {
   "lastCommId": null,
   "lastKernelId": null
  },
  "colab": {
   "collapsed_sections": [],
   "name": "RNN.ipynb",
   "provenance": []
  },
  "kernelspec": {
   "display_name": "Python 3",
   "language": "python",
   "name": "python3"
  },
  "language_info": {
   "codemirror_mode": {
    "name": "ipython",
    "version": 3
   },
   "file_extension": ".py",
   "mimetype": "text/x-python",
   "name": "python",
   "nbconvert_exporter": "python",
   "pygments_lexer": "ipython3",
   "version": "3.7.4"
  }
 },
 "nbformat": 4,
 "nbformat_minor": 1
}
