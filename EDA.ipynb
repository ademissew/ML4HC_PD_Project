{
 "cells": [
  {
   "cell_type": "markdown",
   "metadata": {},
   "source": [
    "# MLHC Final Project - Data Cleaning and EDA\n",
    "#### Team members: Hyemin Bang, Alenta Demissew, Rachel Moon"
   ]
  },
  {
   "cell_type": "code",
   "execution_count": null,
   "metadata": {},
   "outputs": [],
   "source": [
    "import numpy as np\n",
    "import pandas as pd\n",
    "import matplotlib.pyplot as plt\n",
    "import seaborn as sns"
   ]
  },
  {
   "cell_type": "code",
   "execution_count": null,
   "metadata": {},
   "outputs": [],
   "source": [
    "pd.set_option('display.max_rows', None)\n",
    "pd.set_option('display.max_columns', None)\n",
    "pd.set_option('display.width', None)\n",
    "pd.set_option('display.max_colwidth', -1)"
   ]
  },
  {
   "cell_type": "markdown",
   "metadata": {},
   "source": [
    "## 1. Data: medication status labels"
   ]
  },
  {
   "cell_type": "markdown",
   "metadata": {},
   "source": [
    "We first load datasets that contain patient's medication status information."
   ]
  },
  {
   "cell_type": "code",
   "execution_count": null,
   "metadata": {},
   "outputs": [],
   "source": [
    "cis = pd.read_csv(\"BEATPD_data/cis-pd/data_labels/CIS-PD_Training_Data_IDs_Labels.csv\")\n",
    "cis.head()"
   ]
  },
  {
   "cell_type": "markdown",
   "metadata": {},
   "source": [
    "Using time series data, we aim to predict `on_off` medication status. Dyskinesia and tremor severity is self reported, so we didn't think these would be informative labels to predict. We will not be using these dyskinesia and tremor features in our model. "
   ]
  },
  {
   "cell_type": "code",
   "execution_count": null,
   "metadata": {
    "scrolled": true
   },
   "outputs": [],
   "source": [
    "cis.describe()"
   ]
  },
  {
   "cell_type": "code",
   "execution_count": null,
   "metadata": {
    "scrolled": true
   },
   "outputs": [],
   "source": [
    "cis.shape"
   ]
  },
  {
   "cell_type": "markdown",
   "metadata": {},
   "source": [
    "We will exclude datapoints with missing medication status labels."
   ]
  },
  {
   "cell_type": "code",
   "execution_count": null,
   "metadata": {
    "scrolled": true
   },
   "outputs": [],
   "source": [
    "cis['on_off'].unique()"
   ]
  },
  {
   "cell_type": "code",
   "execution_count": null,
   "metadata": {},
   "outputs": [],
   "source": [
    "cis = cis.dropna(subset=['on_off'])\n",
    "cis.shape"
   ]
  },
  {
   "cell_type": "code",
   "execution_count": null,
   "metadata": {},
   "outputs": [],
   "source": [
    "cis.subject_id.nunique()"
   ]
  },
  {
   "cell_type": "code",
   "execution_count": null,
   "metadata": {
    "scrolled": true
   },
   "outputs": [],
   "source": [
    "plt.figure(figsize=(7,5))\n",
    "plt.title(\"Distribution of medication status (on_off) labels, CIS-PD dataset\", fontsize=15)\n",
    "plt.xlabel(\"Label\")\n",
    "plt.ylabel(\"Frequency\")\n",
    "\n",
    "bins = np.arange(0, cis['on_off'].max() + 1.5) - 0.5\n",
    "plt.hist(cis['on_off'], bins, edgecolor=\"black\")\n",
    "plt.xticks(bins + 0.5)\n",
    "\n",
    "plt.show()"
   ]
  },
  {
   "cell_type": "markdown",
   "metadata": {},
   "source": [
    "For CIS-PD dataset, `on_off` labels are ordinal (0 to 4), showing data imbalance."
   ]
  },
  {
   "cell_type": "code",
   "execution_count": null,
   "metadata": {
    "scrolled": true
   },
   "outputs": [],
   "source": [
    "cis.groupby([\"subject_id\", \"on_off\"]).count()"
   ]
  },
  {
   "cell_type": "markdown",
   "metadata": {},
   "source": [
    "## 2. Data: Time series mobile sensor data"
   ]
  },
  {
   "cell_type": "markdown",
   "metadata": {},
   "source": [
    "We now check how some patients' mobile sensor data looks like. One csv file is one 20-minute interval sensor data for a patient. There are multiple 20-minute interval data for each patient. "
   ]
  },
  {
   "cell_type": "code",
   "execution_count": null,
   "metadata": {},
   "outputs": [],
   "source": [
    "sensor = pd.read_csv(\"BEATPD_data/cis-pd/training_data/004ed441-24db-4839-8b5d-7465e4ea2a0a.csv\")\n",
    "sensor2 = pd.read_csv(\"BEATPD_data/cis-pd/training_data/01e0355c-e1a7-4958-a45e-8ab87107fb2b.csv\")\n",
    "sensor3 = pd.read_csv(\"BEATPD_data/cis-pd/training_data/020b3f90-ea23-459a-993a-af979bc23d2f.csv\")\n",
    "\n",
    "sensor.head(10)"
   ]
  },
  {
   "cell_type": "code",
   "execution_count": null,
   "metadata": {},
   "outputs": [],
   "source": [
    "sensor.describe()"
   ]
  },
  {
   "cell_type": "code",
   "execution_count": null,
   "metadata": {},
   "outputs": [],
   "source": [
    "sensor.shape"
   ]
  },
  {
   "cell_type": "code",
   "execution_count": null,
   "metadata": {
    "scrolled": true
   },
   "outputs": [],
   "source": [
    "def plot_time_series(data):\n",
    "    plt.figure(figsize=(15,7))\n",
    "    for c in [\"X\", \"Y\", \"Z\"]:\n",
    "        plt.plot(data[\"time\"],data[c], alpha=0.7, label=c)\n",
    "    plt.legend(loc=\"best\", fontsize=15)\n",
    "    plt.title(\"Directional acceleration during 20-minute interval\",fontsize=18)\n",
    "    plt.xlabel(\"time (sec)\")\n",
    "    plt.ylabel(\"directional acceleration (gravitational units)\")\n",
    "    plt.show()"
   ]
  },
  {
   "cell_type": "code",
   "execution_count": null,
   "metadata": {},
   "outputs": [],
   "source": [
    "for data in [sensor, sensor2, sensor3]:\n",
    "    data.rename(columns={\"Timestamp\": \"time\"},inplace=True)\n",
    "    plot_time_series(data)"
   ]
  },
  {
   "cell_type": "markdown",
   "metadata": {},
   "source": [
    "## 3. Data: Patient demographics"
   ]
  },
  {
   "cell_type": "markdown",
   "metadata": {},
   "source": [
    "Lastly, we also checked the demographics of the patients."
   ]
  },
  {
   "cell_type": "code",
   "execution_count": null,
   "metadata": {},
   "outputs": [],
   "source": [
    "cis_demo = pd.read_csv(\"BEATPD_data/cis-pd/clinical_data/CIS-PD_Demographics.csv\")\n",
    "cis_demo.shape"
   ]
  },
  {
   "cell_type": "markdown",
   "metadata": {},
   "source": [
    "There are only total of 21 patients who participated in the study."
   ]
  },
  {
   "cell_type": "code",
   "execution_count": null,
   "metadata": {
    "scrolled": true
   },
   "outputs": [],
   "source": [
    "cis_demo.head()"
   ]
  },
  {
   "cell_type": "code",
   "execution_count": null,
   "metadata": {},
   "outputs": [],
   "source": [
    "plt.figure(figsize=(7,5))\n",
    "plt.title(\"Age distribution of patients, CIS-PD\", fontsize=18)\n",
    "plt.hist(cis_demo.Age, label=\"CIS-PD\")\n",
    "# plt.hist(real_demo.Age, label=\"REAL-PD\", alpha=0.7)\n",
    "# plt.legend(loc=\"best\", fontsize=13)\n",
    "plt.xlabel(\"Age\", fontsize=14)\n",
    "plt.ylabel(\"frequency\",fontsize=14)\n",
    "plt.show()"
   ]
  },
  {
   "cell_type": "code",
   "execution_count": null,
   "metadata": {
    "scrolled": true
   },
   "outputs": [],
   "source": [
    "cis_demo[\"Age\"].mean()"
   ]
  },
  {
   "cell_type": "markdown",
   "metadata": {},
   "source": [
    "Both datasets generally have patients who are in their 50-80s. "
   ]
  },
  {
   "cell_type": "code",
   "execution_count": null,
   "metadata": {
    "scrolled": true
   },
   "outputs": [],
   "source": [
    "cis_demo.groupby(\"Gender\")['subject_id'].count()"
   ]
  },
  {
   "cell_type": "markdown",
   "metadata": {},
   "source": [
    "CIS-PD dataset is imbalanced in terms of gender, there are twice as many males as female patients."
   ]
  },
  {
   "cell_type": "markdown",
   "metadata": {},
   "source": [
    "## REAL-PD data exploration"
   ]
  },
  {
   "cell_type": "code",
   "execution_count": null,
   "metadata": {},
   "outputs": [],
   "source": [
    "real = pd.read_csv(\"BEATPD_data/real-pd/data_labels/REAL-PD_Training_Data_IDs_Labels.csv\")\n",
    "real.head()\n",
    "\n",
    "real = real.dropna(subset=['on_off'])"
   ]
  },
  {
   "cell_type": "code",
   "execution_count": null,
   "metadata": {
    "scrolled": false
   },
   "outputs": [],
   "source": [
    "plt.figure(figsize=(7,5))\n",
    "plt.title(\"Distribution of medication status (on_off) labels, REAL-PD dataset\", fontsize=15)\n",
    "plt.xlabel(\"Label\")\n",
    "plt.ylabel(\"Frequency\")\n",
    "\n",
    "bins = np.arange(0, real['on_off'].max() + 1.5) - 0.5\n",
    "plt.hist(real['on_off'], bins, edgecolor=\"black\")\n",
    "plt.xticks(bins + 0.5)\n",
    "plt.show()"
   ]
  },
  {
   "cell_type": "code",
   "execution_count": null,
   "metadata": {
    "scrolled": true
   },
   "outputs": [],
   "source": [
    "real.groupby([\"subject_id\", \"on_off\"]).count()"
   ]
  },
  {
   "cell_type": "code",
   "execution_count": null,
   "metadata": {},
   "outputs": [],
   "source": [
    "real_demo = pd.read_csv(\"BEATPD_data/real-pd/clinical_data/REAL-PD_Demographics.csv\")"
   ]
  },
  {
   "cell_type": "code",
   "execution_count": null,
   "metadata": {
    "scrolled": true
   },
   "outputs": [],
   "source": [
    "real_demo.groupby(\"Gender\")['subject_id'].count()"
   ]
  }
 ],
 "metadata": {
  "@webio": {
   "lastCommId": null,
   "lastKernelId": null
  },
  "kernelspec": {
   "display_name": "Python 3",
   "language": "python",
   "name": "python3"
  },
  "language_info": {
   "codemirror_mode": {
    "name": "ipython",
    "version": 3
   },
   "file_extension": ".py",
   "mimetype": "text/x-python",
   "name": "python",
   "nbconvert_exporter": "python",
   "pygments_lexer": "ipython3",
   "version": "3.7.4"
  }
 },
 "nbformat": 4,
 "nbformat_minor": 2
}
